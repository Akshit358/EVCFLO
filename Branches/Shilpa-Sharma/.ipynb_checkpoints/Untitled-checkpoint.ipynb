{
 "cells": [
  {
   "cell_type": "code",
   "execution_count": null,
   "id": "0ce21cda-df36-417c-b38c-87cc9d265a35",
   "metadata": {},
   "outputs": [],
   "source": []
  },
  {
   "cell_type": "code",
   "execution_count": 1,
   "id": "948439ec-5df0-4346-97b2-208fd900e566",
   "metadata": {},
   "outputs": [
    {
     "name": "stdout",
     "output_type": "stream",
     "text": [
      "Requirement already satisfied: geopandas in c:\\users\\admin\\anaconda3\\lib\\site-packages (0.12.2)\n",
      "Requirement already satisfied: pandas>=1.0.0 in c:\\users\\admin\\anaconda3\\lib\\site-packages (from geopandas) (1.4.4)\n",
      "Requirement already satisfied: shapely>=1.7 in c:\\users\\admin\\anaconda3\\lib\\site-packages (from geopandas) (2.0.1)\n",
      "Requirement already satisfied: pyproj>=2.6.1.post1 in c:\\users\\admin\\anaconda3\\lib\\site-packages (from geopandas) (2.6.1.post1)\n",
      "Requirement already satisfied: fiona>=1.8 in c:\\users\\admin\\anaconda3\\lib\\site-packages (from geopandas) (1.8.22)\n",
      "Requirement already satisfied: packaging in c:\\users\\admin\\anaconda3\\lib\\site-packages (from geopandas) (21.3)\n",
      "Requirement already satisfied: attrs>=17 in c:\\users\\admin\\anaconda3\\lib\\site-packages (from fiona>=1.8->geopandas) (21.4.0)\n",
      "Requirement already satisfied: certifi in c:\\users\\admin\\anaconda3\\lib\\site-packages (from fiona>=1.8->geopandas) (2022.9.14)\n",
      "Requirement already satisfied: click>=4.0 in c:\\users\\admin\\anaconda3\\lib\\site-packages (from fiona>=1.8->geopandas) (8.0.4)\n",
      "Requirement already satisfied: cligj>=0.5 in c:\\users\\admin\\anaconda3\\lib\\site-packages (from fiona>=1.8->geopandas) (0.7.2)\n",
      "Requirement already satisfied: click-plugins>=1.0 in c:\\users\\admin\\anaconda3\\lib\\site-packages (from fiona>=1.8->geopandas) (1.1.1)\n",
      "Requirement already satisfied: six>=1.7 in c:\\users\\admin\\anaconda3\\lib\\site-packages (from fiona>=1.8->geopandas) (1.16.0)\n",
      "Requirement already satisfied: munch in c:\\users\\admin\\anaconda3\\lib\\site-packages (from fiona>=1.8->geopandas) (2.5.0)\n",
      "Requirement already satisfied: setuptools in c:\\users\\admin\\anaconda3\\lib\\site-packages (from fiona>=1.8->geopandas) (63.4.1)\n",
      "Requirement already satisfied: numpy>=1.18.5 in c:\\users\\admin\\anaconda3\\lib\\site-packages (from pandas>=1.0.0->geopandas) (1.21.5)\n",
      "Requirement already satisfied: pytz>=2020.1 in c:\\users\\admin\\anaconda3\\lib\\site-packages (from pandas>=1.0.0->geopandas) (2022.1)\n",
      "Requirement already satisfied: python-dateutil>=2.8.1 in c:\\users\\admin\\anaconda3\\lib\\site-packages (from pandas>=1.0.0->geopandas) (2.8.2)\n",
      "Requirement already satisfied: pyparsing!=3.0.5,>=2.0.2 in c:\\users\\admin\\anaconda3\\lib\\site-packages (from packaging->geopandas) (3.0.9)\n",
      "Requirement already satisfied: colorama in c:\\users\\admin\\anaconda3\\lib\\site-packages (from click>=4.0->fiona>=1.8->geopandas) (0.4.5)\n",
      "Note: you may need to restart the kernel to use updated packages.\n"
     ]
    }
   ],
   "source": [
    "pip install geopandas\n"
   ]
  },
  {
   "cell_type": "raw",
   "id": "57da4302-1a22-4f9d-889f-aeca962b89f4",
   "metadata": {},
   "source": [
    "Converting the json file into csv for easy readbale format\n"
   ]
  },
  {
   "cell_type": "code",
   "execution_count": 2,
   "id": "0ea06995-e04e-45b6-b582-0a84f70b9e9b",
   "metadata": {},
   "outputs": [],
   "source": [
    "import geopandas as gpd\n",
    "\n",
    "# Load charging station data\n",
    "file_path = r'C:\\Users\\Admin\\OneDrive\\EVCFLO\\Branches\\Shilpa-Sharma\\export.geojson'\n",
    "charging_stations = gpd.read_file(file_path)\n",
    "\n",
    "# Convert to CSV\n",
    "csv_file_path = r'C:\\Users\\Admin\\OneDrive\\EVCFLO\\Branches\\Shilpa-Sharma\\export.csv'\n",
    "charging_stations.to_csv(csv_file_path, index=False)"
   ]
  },
  {
   "cell_type": "raw",
   "id": "505ad298-141b-4cd1-b568-962c64c4981d",
   "metadata": {},
   "source": [
    "Printing columns from the csv file using pandas"
   ]
  },
  {
   "cell_type": "code",
   "execution_count": 9,
   "id": "c75ec916-bf20-4eb6-85ab-bd9b67844c33",
   "metadata": {},
   "outputs": [
    {
     "name": "stdout",
     "output_type": "stream",
     "text": [
      "Index(['id', '@id', 'access', 'amenity', 'brand', 'source', 'addr:city',\n",
      "       'addr:housenumber', 'addr:street', 'brand:wikidata', 'capacity',\n",
      "       'description', 'short_name', 'socket:tesla_supercharger', 'location',\n",
      "       'operator', 'brand:wikipedia', 'name', 'operator:wikidata',\n",
      "       'operator:wikipedia', 'website', 'opening_hours', 'fee', 'covered',\n",
      "       'level', 'socket:chademo', 'socket:type2_combo', 'fixme', 'network',\n",
      "       'socket:type2', 'note', 'payment:free', 'charging_station:output',\n",
      "       'parking:fee', 'indoor', 'payment:app', 'bicycle', 'bus', 'hgv',\n",
      "       'motorcar', 'scooter', 'ele', 'maxstay', 'payment:cards',\n",
      "       'payment:cash', 'payment:membership_card', 'payment:qr_code',\n",
      "       'socket:chademo:output', 'socket:type2_combo:output', 'manufacturer',\n",
      "       'ref', 'socket:type2:output', 'geometry'],\n",
      "      dtype='object')\n"
     ]
    }
   ],
   "source": [
    "import pandas as pd\n",
    "\n",
    "#load the csv file into a dataframe\n",
    "csv_file_path =  r'C:\\Users\\Admin\\OneDrive\\EVCFLO\\Branches\\Shilpa-Sharma\\export.csv'\n",
    "charging_stations_df = pd.read_csv(csv_file_path)\n",
    "\n",
    "# Print all columns\n",
    "print(charging_stations_df.columns)"
   ]
  },
  {
   "cell_type": "raw",
   "id": "956cd5fb-2228-462e-95ec-4443b7b99bd6",
   "metadata": {},
   "source": [
    "Checking for data types of columns"
   ]
  },
  {
   "cell_type": "code",
   "execution_count": 10,
   "id": "82cc909a-49fa-4d47-ac12-d7d114ce2108",
   "metadata": {},
   "outputs": [
    {
     "name": "stdout",
     "output_type": "stream",
     "text": [
      "id                            object\n",
      "@id                           object\n",
      "access                        object\n",
      "amenity                       object\n",
      "brand                         object\n",
      "source                        object\n",
      "addr:city                     object\n",
      "addr:housenumber              object\n",
      "addr:street                   object\n",
      "brand:wikidata                object\n",
      "capacity                      object\n",
      "description                   object\n",
      "short_name                    object\n",
      "socket:tesla_supercharger    float64\n",
      "location                      object\n",
      "operator                      object\n",
      "brand:wikipedia               object\n",
      "name                          object\n",
      "operator:wikidata             object\n",
      "operator:wikipedia            object\n",
      "website                       object\n",
      "opening_hours                 object\n",
      "fee                           object\n",
      "covered                       object\n",
      "level                        float64\n",
      "socket:chademo               float64\n",
      "socket:type2_combo           float64\n",
      "fixme                         object\n",
      "network                       object\n",
      "socket:type2                 float64\n",
      "note                          object\n",
      "payment:free                  object\n",
      "charging_station:output       object\n",
      "parking:fee                   object\n",
      "indoor                        object\n",
      "payment:app                   object\n",
      "bicycle                       object\n",
      "bus                           object\n",
      "hgv                           object\n",
      "motorcar                      object\n",
      "scooter                       object\n",
      "ele                          float64\n",
      "maxstay                       object\n",
      "payment:cards                 object\n",
      "payment:cash                  object\n",
      "payment:membership_card       object\n",
      "payment:qr_code               object\n",
      "socket:chademo:output         object\n",
      "socket:type2_combo:output     object\n",
      "manufacturer                  object\n",
      "ref                           object\n",
      "socket:type2:output           object\n",
      "geometry                      object\n",
      "dtype: object\n"
     ]
    }
   ],
   "source": [
    "# Check data types of columns\n",
    "print(charging_stations_df.dtypes)"
   ]
  },
  {
   "cell_type": "raw",
   "id": "446226ae-6bad-4434-ac2f-41352d75bfc7",
   "metadata": {},
   "source": [
    "Checking for Null Values"
   ]
  },
  {
   "cell_type": "code",
   "execution_count": 11,
   "id": "257240f2-9f71-4cf0-90fa-24f050b83e05",
   "metadata": {},
   "outputs": [
    {
     "name": "stdout",
     "output_type": "stream",
     "text": [
      "id                             0\n",
      "@id                            0\n",
      "access                       123\n",
      "amenity                        0\n",
      "brand                        124\n",
      "source                       155\n",
      "addr:city                    155\n",
      "addr:housenumber             154\n",
      "addr:street                  154\n",
      "brand:wikidata               134\n",
      "capacity                     107\n",
      "description                  137\n",
      "short_name                   144\n",
      "socket:tesla_supercharger    147\n",
      "location                     155\n",
      "operator                      49\n",
      "brand:wikipedia              148\n",
      "name                         134\n",
      "operator:wikidata             69\n",
      "operator:wikipedia           150\n",
      "website                      149\n",
      "opening_hours                152\n",
      "fee                          119\n",
      "covered                      151\n",
      "level                        153\n",
      "socket:chademo               110\n",
      "socket:type2_combo            97\n",
      "fixme                        155\n",
      "network                      150\n",
      "socket:type2                 141\n",
      "note                         152\n",
      "payment:free                 154\n",
      "charging_station:output      153\n",
      "parking:fee                  150\n",
      "indoor                       154\n",
      "payment:app                  154\n",
      "bicycle                      153\n",
      "bus                          153\n",
      "hgv                          153\n",
      "motorcar                     153\n",
      "scooter                      153\n",
      "ele                          155\n",
      "maxstay                      154\n",
      "payment:cards                155\n",
      "payment:cash                 155\n",
      "payment:membership_card      155\n",
      "payment:qr_code              155\n",
      "socket:chademo:output        154\n",
      "socket:type2_combo:output    151\n",
      "manufacturer                 154\n",
      "ref                          155\n",
      "socket:type2:output          155\n",
      "geometry                       0\n",
      "dtype: int64\n"
     ]
    }
   ],
   "source": [
    "# Check for null values in each column\n",
    "print(charging_stations_df.isnull().sum())"
   ]
  },
  {
   "cell_type": "raw",
   "id": "415f8ac7-d16d-436c-ab49-243d569a947e",
   "metadata": {},
   "source": [
    "Dropping the columns with too many null values & saving it to a new file"
   ]
  },
  {
   "cell_type": "code",
   "execution_count": 17,
   "id": "f5e4270b-f767-46ff-b9cb-0e7841c6feb5",
   "metadata": {},
   "outputs": [
    {
     "name": "stdout",
     "output_type": "stream",
     "text": [
      "            amenity          operator  \\\n",
      "0  charging_station               NaN   \n",
      "1  charging_station               NaN   \n",
      "2  charging_station               NaN   \n",
      "3  charging_station  Museums Victoria   \n",
      "4  charging_station       Tesla, Inc.   \n",
      "\n",
      "                                            geometry  capacity  addr:city  \\\n",
      "0  POLYGON ((144.9937152 -37.8037876, 144.9937602...  3.270833        NaN   \n",
      "1                    POINT (145.0824905 -37.8872284)  4.000000  Chadstone   \n",
      "2                    POINT (145.2116252 -38.0270897)  2.000000        NaN   \n",
      "3                    POINT (144.9719796 -37.8042881)  2.000000        NaN   \n",
      "4                    POINT (144.9957089 -37.8321721)  4.000000        NaN   \n",
      "\n",
      "  addr:housenumber     addr:street     location               brand  \\\n",
      "0              NaN             NaN          NaN              EVlink   \n",
      "1             1341  Dandenong Road          NaN         Tesla, Inc.   \n",
      "2              NaN             NaN          NaN                 NaN   \n",
      "3              NaN             NaN  underground                 NaN   \n",
      "4            5/650   Church Street          NaN  Tesla Supercharger   \n",
      "\n",
      "          socket_type  \n",
      "0             Unknown  \n",
      "1  Tesla Supercharger  \n",
      "2             Unknown  \n",
      "3             Unknown  \n",
      "4  Tesla Supercharger  \n"
     ]
    }
   ],
   "source": [
    "# Load the dataset\n",
    "file_path = r'C:\\Users\\Admin\\OneDrive\\EVCFLO\\Branches\\Shilpa-Sharma\\export.csv'\n",
    "charging_stations_df = pd.read_csv(file_path)\n",
    "\n",
    "# Define the relevant columns for filtering\n",
    "relevant_columns = ['amenity', 'operator', 'geometry', 'capacity', \n",
    "                    'addr:city', 'addr:housenumber', 'addr:street',\n",
    "                    'location', 'brand', 'socket:tesla_supercharger', \n",
    "                    'socket:chademo', 'socket:type2_combo', 'socket:type2']\n",
    "\n",
    "# Filter the DataFrame to keep only relevant columns\n",
    "filtered_df = charging_stations_df[relevant_columns].copy()  # Make a copy to avoid warnings\n",
    "\n",
    "# Create a new column 'socket_type' and fill it based on available socket types\n",
    "filtered_df['socket_type'] = 'Unknown'\n",
    "filtered_df.loc[filtered_df['socket:tesla_supercharger'].notna(), 'socket_type'] = 'Tesla Supercharger'\n",
    "filtered_df.loc[filtered_df['socket:chademo'].notna(), 'socket_type'] = 'CHAdeMO'\n",
    "filtered_df.loc[filtered_df['socket:type2_combo'].notna(), 'socket_type'] = 'Type 2 Combo'\n",
    "filtered_df.loc[filtered_df['socket:type2'].notna(), 'socket_type'] = 'Type 2'\n",
    "\n",
    "# Drop the individual socket type columns\n",
    "filtered_df.drop(columns=['socket:tesla_supercharger', 'socket:chademo', \n",
    "                          'socket:type2_combo', 'socket:type2'], inplace=True)\n",
    "\n",
    "# Handle missing values\n",
    "# Impute missing values for 'capacity' with the mean\n",
    "filtered_df['capacity'] = pd.to_numeric(filtered_df['capacity'], errors='coerce')\n",
    "filtered_df['capacity'].fillna(filtered_df['capacity'].mean(), inplace=True)\n",
    "\n",
    "# Drop rows with missing values in critical columns like 'amenity' and 'geometry'\n",
    "filtered_df.dropna(subset=['amenity', 'geometry'], inplace=True)\n",
    "\n",
    "# Save the filtered DataFrame to a new CSV file\n",
    "filtered_csv_path = r'C:\\Users\\Admin\\OneDrive\\EVCFLO\\Branches\\Shilpa-Sharma\\filtered_charging_stations.csv'\n",
    "filtered_df.to_csv(filtered_csv_path, index=False)\n",
    "\n",
    "# Display the first few rows of the filtered DataFrame\n",
    "print(filtered_df.head())"
   ]
  },
  {
   "cell_type": "code",
   "execution_count": 15,
   "id": "354f41e9-74d4-4bfd-82c9-c8cbb4426f3a",
   "metadata": {},
   "outputs": [
    {
     "name": "stdout",
     "output_type": "stream",
     "text": [
      "object\n",
      "[nan '4' '2' '1' '22' '12' '6' 'w']\n"
     ]
    }
   ],
   "source": [
    "# Check the data type of the 'capacity' column\n",
    "print(filtered_df['capacity'].dtype)\n",
    "\n",
    "# Check unique values in the 'capacity' column\n",
    "print(filtered_df['capacity'].unique())"
   ]
  },
  {
   "cell_type": "code",
   "execution_count": null,
   "id": "93d76a56-7fe0-4b56-aa05-037de9390d88",
   "metadata": {},
   "outputs": [],
   "source": []
  },
  {
   "cell_type": "code",
   "execution_count": null,
   "id": "aa8886f9-9704-43f6-afa7-25328fadd994",
   "metadata": {},
   "outputs": [],
   "source": []
  }
 ],
 "metadata": {
  "kernelspec": {
   "display_name": "Python 3 (ipykernel)",
   "language": "python",
   "name": "python3"
  },
  "language_info": {
   "codemirror_mode": {
    "name": "ipython",
    "version": 3
   },
   "file_extension": ".py",
   "mimetype": "text/x-python",
   "name": "python",
   "nbconvert_exporter": "python",
   "pygments_lexer": "ipython3",
   "version": "3.9.13"
  }
 },
 "nbformat": 4,
 "nbformat_minor": 5
}
